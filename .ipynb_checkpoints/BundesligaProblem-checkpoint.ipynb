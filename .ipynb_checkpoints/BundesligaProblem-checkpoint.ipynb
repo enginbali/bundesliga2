{
 "cells": [
  {
   "cell_type": "code",
   "execution_count": 1,
   "metadata": {},
   "outputs": [],
   "source": [
    "import pandas as pd\n",
    "import numpy as np"
   ]
  },
  {
   "cell_type": "code",
   "execution_count": 2,
   "metadata": {},
   "outputs": [],
   "source": [
    "betfair = pd.read_csv('data/betfair_bundesliga.csv')"
   ]
  },
  {
   "cell_type": "code",
   "execution_count": 4,
   "metadata": {},
   "outputs": [
    {
     "data": {
      "text/html": [
       "<div>\n",
       "<style scoped>\n",
       "    .dataframe tbody tr th:only-of-type {\n",
       "        vertical-align: middle;\n",
       "    }\n",
       "\n",
       "    .dataframe tbody tr th {\n",
       "        vertical-align: top;\n",
       "    }\n",
       "\n",
       "    .dataframe thead th {\n",
       "        text-align: right;\n",
       "    }\n",
       "</style>\n",
       "<table border=\"1\" class=\"dataframe\">\n",
       "  <thead>\n",
       "    <tr style=\"text-align: right;\">\n",
       "      <th></th>\n",
       "      <th>Unnamed: 0</th>\n",
       "      <th>Event Name</th>\n",
       "      <th>Event ID</th>\n",
       "      <th>Event Venue</th>\n",
       "      <th>Country Code</th>\n",
       "      <th>Time Zone</th>\n",
       "      <th>Open Date</th>\n",
       "      <th>Market Count</th>\n",
       "    </tr>\n",
       "  </thead>\n",
       "  <tbody>\n",
       "    <tr>\n",
       "      <th>0</th>\n",
       "      <td>94</td>\n",
       "      <td>Ingolstadt v SV Meppen</td>\n",
       "      <td>29597958</td>\n",
       "      <td>NaN</td>\n",
       "      <td>DE</td>\n",
       "      <td>GMT</td>\n",
       "      <td>2019-12-01 12:00:00</td>\n",
       "      <td>25</td>\n",
       "    </tr>\n",
       "    <tr>\n",
       "      <th>1</th>\n",
       "      <td>96</td>\n",
       "      <td>Unterhaching v 1860 Munich</td>\n",
       "      <td>29597970</td>\n",
       "      <td>NaN</td>\n",
       "      <td>DE</td>\n",
       "      <td>GMT</td>\n",
       "      <td>2019-12-01 13:00:00</td>\n",
       "      <td>25</td>\n",
       "    </tr>\n",
       "    <tr>\n",
       "      <th>2</th>\n",
       "      <td>98</td>\n",
       "      <td>SV Sandhausen v Stuttgart</td>\n",
       "      <td>29584657</td>\n",
       "      <td>NaN</td>\n",
       "      <td>DE</td>\n",
       "      <td>GMT</td>\n",
       "      <td>2019-12-01 12:30:00</td>\n",
       "      <td>41</td>\n",
       "    </tr>\n",
       "    <tr>\n",
       "      <th>3</th>\n",
       "      <td>99</td>\n",
       "      <td>Braunschweig v FSV Zwickau</td>\n",
       "      <td>29597969</td>\n",
       "      <td>NaN</td>\n",
       "      <td>DE</td>\n",
       "      <td>GMT</td>\n",
       "      <td>2019-12-02 18:00:00</td>\n",
       "      <td>25</td>\n",
       "    </tr>\n",
       "    <tr>\n",
       "      <th>4</th>\n",
       "      <td>100</td>\n",
       "      <td>SV Darmstadt v Arminia Bielefeld</td>\n",
       "      <td>29584656</td>\n",
       "      <td>NaN</td>\n",
       "      <td>DE</td>\n",
       "      <td>GMT</td>\n",
       "      <td>2019-12-01 12:30:00</td>\n",
       "      <td>41</td>\n",
       "    </tr>\n",
       "  </tbody>\n",
       "</table>\n",
       "</div>"
      ],
      "text/plain": [
       "   Unnamed: 0                        Event Name  Event ID  Event Venue  \\\n",
       "0          94            Ingolstadt v SV Meppen  29597958          NaN   \n",
       "1          96        Unterhaching v 1860 Munich  29597970          NaN   \n",
       "2          98         SV Sandhausen v Stuttgart  29584657          NaN   \n",
       "3          99        Braunschweig v FSV Zwickau  29597969          NaN   \n",
       "4         100  SV Darmstadt v Arminia Bielefeld  29584656          NaN   \n",
       "\n",
       "  Country Code Time Zone            Open Date  Market Count  \n",
       "0           DE       GMT  2019-12-01 12:00:00            25  \n",
       "1           DE       GMT  2019-12-01 13:00:00            25  \n",
       "2           DE       GMT  2019-12-01 12:30:00            41  \n",
       "3           DE       GMT  2019-12-02 18:00:00            25  \n",
       "4           DE       GMT  2019-12-01 12:30:00            41  "
      ]
     },
     "execution_count": 4,
     "metadata": {},
     "output_type": "execute_result"
    }
   ],
   "source": [
    "betfair.head()"
   ]
  },
  {
   "cell_type": "markdown",
   "metadata": {},
   "source": [
    "## The problem\n",
    "- Event Name contains Home Team and the Away Team\n",
    "- We want to have 2 new columns: 1) Home 2) Away\n",
    "- Drop the Event Name column after creating the new ones"
   ]
  },
  {
   "cell_type": "code",
   "execution_count": null,
   "metadata": {},
   "outputs": [],
   "source": []
  }
 ],
 "metadata": {
  "kernelspec": {
   "display_name": "Python 3",
   "language": "python",
   "name": "python3"
  },
  "language_info": {
   "codemirror_mode": {
    "name": "ipython",
    "version": 3
   },
   "file_extension": ".py",
   "mimetype": "text/x-python",
   "name": "python",
   "nbconvert_exporter": "python",
   "pygments_lexer": "ipython3",
   "version": "3.7.3"
  }
 },
 "nbformat": 4,
 "nbformat_minor": 2
}
